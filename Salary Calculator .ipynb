{
 "cells": [
  {
   "cell_type": "code",
   "execution_count": 18,
   "metadata": {},
   "outputs": [],
   "source": [
    "def salarycalc(basic_salary):\n",
    "    tax_ded=0\n",
    "    if basic_salary<30000:\n",
    "        tax_ded=0\n",
    "    elif basic_salary>=30000 and basic_salary<50000:\n",
    "        tax_ded=5\n",
    "    elif basic_salary>=50000 and basic_salary<100000:\n",
    "        tax_ded=10\n",
    "    elif basic_salary>=100000 and basic_salary<200000:\n",
    "        tax_ded=15\n",
    "    else:\n",
    "        tax_ded=20\n",
    "    tot_ded=basic_salary*tax_ded/100\n",
    "    gross_salary=basic_salary-tot_ded\n",
    "    return gross_salary\n"
   ]
  },
  {
   "cell_type": "code",
   "execution_count": 24,
   "metadata": {},
   "outputs": [
    {
     "name": "stdout",
     "output_type": "stream",
     "text": [
      "\n",
      " Enter the Basic salary of employee50000\n",
      "\n",
      " gross salary of employee is 45000.0\n"
     ]
    }
   ],
   "source": [
    "basic_salary=int(input(\"\\n Enter the Basic salary of employee\"))\n",
    "gross_salary=salarycalc(basic_salary)\n",
    "print(f\"\\n gross salary of employee is {gross_salary}\")\n",
    "\n",
    "          \n",
    "          \n",
    "    "
   ]
  },
  {
   "cell_type": "code",
   "execution_count": null,
   "metadata": {},
   "outputs": [],
   "source": []
  }
 ],
 "metadata": {
  "kernelspec": {
   "display_name": "Python 3",
   "language": "python",
   "name": "python3"
  },
  "language_info": {
   "codemirror_mode": {
    "name": "ipython",
    "version": 3
   },
   "file_extension": ".py",
   "mimetype": "text/x-python",
   "name": "python",
   "nbconvert_exporter": "python",
   "pygments_lexer": "ipython3",
   "version": "3.7.6"
  }
 },
 "nbformat": 4,
 "nbformat_minor": 4
}
